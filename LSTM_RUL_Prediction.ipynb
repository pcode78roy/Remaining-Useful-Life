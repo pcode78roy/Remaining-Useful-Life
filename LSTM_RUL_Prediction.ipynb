{
  "nbformat": 4,
  "nbformat_minor": 0,
  "metadata": {
    "kernelspec": {
      "display_name": "Python 3",
      "language": "python",
      "name": "python3"
    },
    "language_info": {
      "codemirror_mode": {
        "name": "ipython",
        "version": 3
      },
      "file_extension": ".py",
      "mimetype": "text/x-python",
      "name": "python",
      "nbconvert_exporter": "python",
      "pygments_lexer": "ipython3",
      "version": "3.7.3"
    },
    "colab": {
      "name": "LSTM RUL Prediction.ipynb",
      "provenance": []
    },
    "accelerator": "GPU"
  },
  "cells": [
    {
      "cell_type": "markdown",
      "metadata": {
        "id": "cWT-SspFvmtx"
      },
      "source": [
        "# Aircraft Engine RUL Prediction"
      ]
    },
    {
      "cell_type": "code",
      "metadata": {
        "id": "UrsOMjxIvmt1"
      },
      "source": [
        "import pandas as pd\n",
        "import numpy as np\n",
        "\n",
        "#to plot the data\n",
        "import matplotlib.pyplot as plt\n",
        "import seaborn as sns\n",
        "plt.style.use('fivethirtyeight')\n",
        "%matplotlib inline\n",
        "\n",
        "from sklearn.preprocessing import MinMaxScaler #to normalize data\n",
        "\n",
        "import os\n",
        "# os.chdir(\"C:/Data/aircraft/\")\n",
        "\n",
        "#for deep learning\n",
        "import keras\n",
        "import keras.backend as k\n",
        "from keras.models import Sequential\n",
        "from keras.layers import Dense, LSTM, Activation, Masking, Dropout\n",
        "from keras.optimizers import RMSprop, Adam\n",
        "from keras.callbacks import History\n",
        "from keras import callbacks"
      ],
      "execution_count": 1,
      "outputs": []
    },
    {
      "cell_type": "code",
      "metadata": {
        "id": "y6-Dhaqdvmt2"
      },
      "source": [
        "# based on data wrangling python notebook\n",
        "def prepare_data(drop_cols = True):\n",
        "    dependent_var = ['RUL']\n",
        "    index_columns_names =  [\"UnitNumber\",\"Cycle\"]\n",
        "    operational_settings_columns_names = [\"OpSet\"+str(i) for i in range(1,4)]\n",
        "    sensor_measure_columns_names =[\"SensorMeasure\"+str(i) for i in range(1,22)]\n",
        "    input_file_column_names = index_columns_names + operational_settings_columns_names + sensor_measure_columns_names\n",
        "\n",
        "    cols_to_drop = ['OpSet3', 'SensorMeasure1', 'SensorMeasure5', 'SensorMeasure6', 'SensorMeasure10', 'SensorMeasure14',\n",
        "     'SensorMeasure16', 'SensorMeasure18', 'SensorMeasure19']\n",
        "\n",
        "    df_train = pd.read_csv('https://raw.githubusercontent.com/ericlrf/rul/main/CMAPSSData/train_FD001.txt',delim_whitespace=True,names=input_file_column_names)\n",
        "\n",
        "    rul = pd.DataFrame(df_train.groupby('UnitNumber')['Cycle'].max()).reset_index()\n",
        "    rul.columns = ['UnitNumber', 'max']\n",
        "    df_train = df_train.merge(rul, on=['UnitNumber'], how='left')\n",
        "    df_train['RUL'] = df_train['max'] - df_train['Cycle']\n",
        "    df_train.drop('max', axis=1, inplace=True)\n",
        "\n",
        "    df_test = pd.read_csv('https://raw.githubusercontent.com/ericlrf/rul/main/CMAPSSData/test_FD001.txt', delim_whitespace=True, names=input_file_column_names)\n",
        "    \n",
        "    if(drop_cols == True):\n",
        "        df_train = df_train.drop(cols_to_drop, axis = 1)\n",
        "        df_test = df_test.drop(cols_to_drop, axis = 1)\n",
        "\n",
        "    y_true = pd.read_csv('https://raw.githubusercontent.com/ericlrf/rul/main/CMAPSSData/RUL_FD001.txt', delim_whitespace=True,names=[\"RUL\"])\n",
        "    y_true[\"UnitNumber\"] = y_true.index\n",
        "    \n",
        "    return df_train, df_test, y_true"
      ],
      "execution_count": 2,
      "outputs": []
    },
    {
      "cell_type": "code",
      "metadata": {
        "colab": {
          "base_uri": "https://localhost:8080/"
        },
        "id": "paIQqAlsvmt3",
        "outputId": "b1d2c234-935a-46e0-d06b-f693a4d0d12d"
      },
      "source": [
        "df_train, df_test, y_true = prepare_data(drop_cols=True)\n",
        "df_train.shape, df_test.shape, y_true.shape"
      ],
      "execution_count": 3,
      "outputs": [
        {
          "output_type": "execute_result",
          "data": {
            "text/plain": [
              "((20631, 18), (13096, 17), (100, 2))"
            ]
          },
          "metadata": {
            "tags": []
          },
          "execution_count": 3
        }
      ]
    },
    {
      "cell_type": "markdown",
      "metadata": {
        "id": "NoTXbJNVvmt4"
      },
      "source": [
        "## Model"
      ]
    },
    {
      "cell_type": "markdown",
      "metadata": {
        "id": "iFvSsoRmvmt5"
      },
      "source": [
        "### Data Preprocessing"
      ]
    },
    {
      "cell_type": "markdown",
      "metadata": {
        "id": "T3cxTsDkvmt6"
      },
      "source": [
        "To make sure that variance of features remain in the same range, it is important to scale the features. If a feature's variance is order of magnitude more than the variance of other features, that particular feature might dominate other features in the dataset, which is not desirable."
      ]
    },
    {
      "cell_type": "code",
      "metadata": {
        "id": "flJlAM82waxv"
      },
      "source": [
        "feats = df_train.columns.drop(['UnitNumber', 'Cycle', 'RUL'])"
      ],
      "execution_count": 4,
      "outputs": []
    },
    {
      "cell_type": "code",
      "metadata": {
        "id": "n3Qa_ZfLvmt7"
      },
      "source": [
        "min_max_scaler = MinMaxScaler(feature_range=(-1,1))\n",
        "\n",
        "df_train[feats] = min_max_scaler.fit_transform(df_train[feats])\n",
        "df_test[feats] = min_max_scaler.fit_transform(df_test[feats])"
      ],
      "execution_count": 5,
      "outputs": []
    },
    {
      "cell_type": "markdown",
      "metadata": {
        "id": "ZpcnxZq_vmt7"
      },
      "source": [
        "\n",
        "LSTM expects an input in the shape of a numpy array of 3 dimensions and I will need to convert train and test data accordingly."
      ]
    },
    {
      "cell_type": "code",
      "metadata": {
        "id": "9AsXaHsMvmt8"
      },
      "source": [
        "def gen_train(id_df, seq_length, seq_cols):\n",
        "    \"\"\"\n",
        "        function to prepare train data into (samples, time steps, features)\n",
        "        id_df = train dataframe\n",
        "        seq_length = look back period\n",
        "        seq_cols = feature columns\n",
        "    \"\"\"\n",
        "        \n",
        "    data_array = id_df[seq_cols].values\n",
        "    num_elements = data_array.shape[0]\n",
        "    lstm_array=[]\n",
        "    \n",
        "    for start, stop in zip(range(0, num_elements-seq_length+1), range(seq_length, num_elements+1)):\n",
        "        lstm_array.append(data_array[start:stop, :])\n",
        "    \n",
        "    return np.array(lstm_array)"
      ],
      "execution_count": 6,
      "outputs": []
    },
    {
      "cell_type": "code",
      "metadata": {
        "id": "zl0lgvCyvmt9"
      },
      "source": [
        "def gen_target(id_df, seq_length, label):\n",
        "    data_array = id_df[label].values\n",
        "    num_elements = data_array.shape[0]\n",
        "    return data_array[seq_length-1:num_elements+1]"
      ],
      "execution_count": 7,
      "outputs": []
    },
    {
      "cell_type": "code",
      "metadata": {
        "id": "ImTqez3pvmt-"
      },
      "source": [
        "def gen_test(id_df, seq_length, seq_cols, mask_value):\n",
        "    \"\"\"\n",
        "        function to prepare test data into (samples, time steps, features)\n",
        "        function only returns last sequence of data for every unit\n",
        "        id_df = test dataframe\n",
        "        seq_length = look back period\n",
        "        seq_cols = feature columns\n",
        "    \"\"\"\n",
        "    df_mask = pd.DataFrame(np.zeros((seq_length-1,id_df.shape[1])),columns=id_df.columns)\n",
        "    df_mask[:] = mask_value\n",
        "    \n",
        "    id_df = df_mask.append(id_df,ignore_index=True)\n",
        "    \n",
        "    data_array = id_df[seq_cols].values\n",
        "    num_elements = data_array.shape[0]\n",
        "    lstm_array=[]\n",
        "    \n",
        "    start = num_elements-seq_length\n",
        "    stop = num_elements\n",
        "    \n",
        "    lstm_array.append(data_array[start:stop, :])\n",
        "    \n",
        "    return np.array(lstm_array)"
      ],
      "execution_count": 8,
      "outputs": []
    },
    {
      "cell_type": "markdown",
      "metadata": {
        "id": "nQycpSHzvmt-"
      },
      "source": [
        "\n",
        "Let's define look back period and mask_value"
      ]
    },
    {
      "cell_type": "code",
      "metadata": {
        "id": "5rCzcAJLvmt_"
      },
      "source": [
        "sequence_length = 50\n",
        "mask_value = 0"
      ],
      "execution_count": 9,
      "outputs": []
    },
    {
      "cell_type": "markdown",
      "metadata": {
        "id": "L_Ssdcj-vmt_"
      },
      "source": [
        "\n",
        "Let's prepare data using above functions."
      ]
    },
    {
      "cell_type": "code",
      "metadata": {
        "colab": {
          "base_uri": "https://localhost:8080/"
        },
        "id": "FaBfKk5wvmuA",
        "outputId": "3c75ac83-6826-411f-f908-54c533b26a8f"
      },
      "source": [
        "#generate train\n",
        "x_train=np.concatenate(list(list(gen_train(df_train[df_train['UnitNumber']==unit], sequence_length, feats)) for unit in df_train['UnitNumber'].unique()))\n",
        "print(x_train.shape)"
      ],
      "execution_count": 10,
      "outputs": [
        {
          "output_type": "stream",
          "text": [
            "(15731, 50, 15)\n"
          ],
          "name": "stdout"
        }
      ]
    },
    {
      "cell_type": "code",
      "metadata": {
        "scrolled": true,
        "colab": {
          "base_uri": "https://localhost:8080/"
        },
        "id": "ZshnfGc1vmuB",
        "outputId": "aac2a2d5-25c4-4ec5-988e-443b0a1b56e0"
      },
      "source": [
        "#generate target of train\n",
        "y_train = np.concatenate(list(list(gen_target(df_train[df_train['UnitNumber']==unit], sequence_length, \"RUL\")) for unit in df_train['UnitNumber'].unique()))\n",
        "y_train.shape"
      ],
      "execution_count": 11,
      "outputs": [
        {
          "output_type": "execute_result",
          "data": {
            "text/plain": [
              "(15731,)"
            ]
          },
          "metadata": {
            "tags": []
          },
          "execution_count": 11
        }
      ]
    },
    {
      "cell_type": "code",
      "metadata": {
        "colab": {
          "base_uri": "https://localhost:8080/"
        },
        "id": "Gk46UujovmuB",
        "outputId": "09d16758-a7dd-4bdf-da38-dc904d5c63c8"
      },
      "source": [
        "#generate test\n",
        "x_test=np.concatenate(list(list(gen_test(df_test[df_test['UnitNumber']==unit], sequence_length, feats, mask_value)) for unit in df_test['UnitNumber'].unique()))\n",
        "print(x_test.shape)"
      ],
      "execution_count": 12,
      "outputs": [
        {
          "output_type": "stream",
          "text": [
            "(100, 50, 15)\n"
          ],
          "name": "stdout"
        }
      ]
    },
    {
      "cell_type": "code",
      "metadata": {
        "colab": {
          "base_uri": "https://localhost:8080/"
        },
        "id": "rF62CHiAvmuC",
        "outputId": "54d998a2-75e3-41bb-ab13-9b9cd1a92591"
      },
      "source": [
        "#true target of test \n",
        "y_test = y_true.RUL.values\n",
        "y_test.shape"
      ],
      "execution_count": 13,
      "outputs": [
        {
          "output_type": "execute_result",
          "data": {
            "text/plain": [
              "(100,)"
            ]
          },
          "metadata": {
            "tags": []
          },
          "execution_count": 13
        }
      ]
    },
    {
      "cell_type": "markdown",
      "metadata": {
        "id": "3lRgx1qEvmuD"
      },
      "source": [
        "### LSTM Model"
      ]
    },
    {
      "cell_type": "code",
      "metadata": {
        "id": "xiAVKfNYvmuD"
      },
      "source": [
        "nb_features = x_train.shape[2]\n",
        "nb_out = 1"
      ],
      "execution_count": 14,
      "outputs": []
    },
    {
      "cell_type": "code",
      "metadata": {
        "colab": {
          "base_uri": "https://localhost:8080/"
        },
        "id": "QvHRtSetvmuE",
        "outputId": "b19fffc5-7572-4128-9828-600c5353b4ee"
      },
      "source": [
        "nb_features"
      ],
      "execution_count": 15,
      "outputs": [
        {
          "output_type": "execute_result",
          "data": {
            "text/plain": [
              "15"
            ]
          },
          "metadata": {
            "tags": []
          },
          "execution_count": 15
        }
      ]
    },
    {
      "cell_type": "code",
      "metadata": {
        "colab": {
          "base_uri": "https://localhost:8080/"
        },
        "id": "1SlITwdqvmuE",
        "outputId": "9572334c-0af6-48f7-d32d-3fcbd3e0dc03"
      },
      "source": [
        "history = History()\n",
        "\n",
        "model = Sequential()\n",
        "model.add(LSTM(\n",
        "         units=100,\n",
        "         return_sequences=True,\n",
        "         input_shape=(sequence_length, nb_features)))\n",
        "model.add(Dropout(0.2))\n",
        "model.add(LSTM(\n",
        "          units=100,\n",
        "          return_sequences=False))\n",
        "model.add(Dropout(0.2))\n",
        "model.add(Dense(units=1, activation='relu'))\n",
        "model.add(Activation(\"relu\"))\n",
        "model.compile(loss=\"mse\", optimizer=\"rmsprop\", metrics=['mse'])\n",
        "\n",
        "model.summary()"
      ],
      "execution_count": 16,
      "outputs": [
        {
          "output_type": "stream",
          "text": [
            "Model: \"sequential\"\n",
            "_________________________________________________________________\n",
            "Layer (type)                 Output Shape              Param #   \n",
            "=================================================================\n",
            "lstm (LSTM)                  (None, 50, 100)           46400     \n",
            "_________________________________________________________________\n",
            "dropout (Dropout)            (None, 50, 100)           0         \n",
            "_________________________________________________________________\n",
            "lstm_1 (LSTM)                (None, 100)               80400     \n",
            "_________________________________________________________________\n",
            "dropout_1 (Dropout)          (None, 100)               0         \n",
            "_________________________________________________________________\n",
            "dense (Dense)                (None, 1)                 101       \n",
            "_________________________________________________________________\n",
            "activation (Activation)      (None, 1)                 0         \n",
            "=================================================================\n",
            "Total params: 126,901\n",
            "Trainable params: 126,901\n",
            "Non-trainable params: 0\n",
            "_________________________________________________________________\n"
          ],
          "name": "stdout"
        }
      ]
    },
    {
      "cell_type": "code",
      "metadata": {
        "scrolled": false,
        "colab": {
          "base_uri": "https://localhost:8080/"
        },
        "id": "jR3GQD9uvmuF",
        "outputId": "3608087a-0cf4-4b55-89b6-61f15360f905"
      },
      "source": [
        "%%time\n",
        "# fit the model\n",
        "model.fit(x_train, y_train, epochs=100, batch_size=32, validation_split=0.1, verbose=1,\n",
        "          callbacks = [history, keras.callbacks.EarlyStopping(monitor='val_loss', min_delta=0, patience=10, verbose=0, mode='auto')])"
      ],
      "execution_count": 17,
      "outputs": [
        {
          "output_type": "stream",
          "text": [
            "Epoch 1/100\n",
            "443/443 [==============================] - 23s 33ms/step - loss: 6930.6233 - mse: 6930.6233 - val_loss: 5592.3604 - val_mse: 5592.3604\n",
            "Epoch 2/100\n",
            "443/443 [==============================] - 13s 30ms/step - loss: 2979.0696 - mse: 2979.0696 - val_loss: 2908.3862 - val_mse: 2908.3862\n",
            "Epoch 3/100\n",
            "443/443 [==============================] - 13s 30ms/step - loss: 1242.2422 - mse: 1242.2422 - val_loss: 1503.1198 - val_mse: 1503.1198\n",
            "Epoch 4/100\n",
            "443/443 [==============================] - 13s 30ms/step - loss: 844.6639 - mse: 844.6639 - val_loss: 1220.5907 - val_mse: 1220.5907\n",
            "Epoch 5/100\n",
            "443/443 [==============================] - 13s 30ms/step - loss: 699.5799 - mse: 699.5799 - val_loss: 1211.2185 - val_mse: 1211.2185\n",
            "Epoch 6/100\n",
            "443/443 [==============================] - 13s 30ms/step - loss: 631.7091 - mse: 631.7091 - val_loss: 1587.6281 - val_mse: 1587.6281\n",
            "Epoch 7/100\n",
            "443/443 [==============================] - 13s 30ms/step - loss: 609.6160 - mse: 609.6160 - val_loss: 1819.1219 - val_mse: 1819.1219\n",
            "Epoch 8/100\n",
            "443/443 [==============================] - 13s 29ms/step - loss: 564.9316 - mse: 564.9316 - val_loss: 1680.2623 - val_mse: 1680.2623\n",
            "Epoch 9/100\n",
            "443/443 [==============================] - 13s 30ms/step - loss: 504.2302 - mse: 504.2302 - val_loss: 1435.1661 - val_mse: 1435.1661\n",
            "Epoch 10/100\n",
            "443/443 [==============================] - 13s 29ms/step - loss: 475.8646 - mse: 475.8646 - val_loss: 1383.8851 - val_mse: 1383.8851\n",
            "Epoch 11/100\n",
            "443/443 [==============================] - 13s 29ms/step - loss: 431.1838 - mse: 431.1838 - val_loss: 1200.6763 - val_mse: 1200.6763\n",
            "Epoch 12/100\n",
            "443/443 [==============================] - 13s 30ms/step - loss: 414.9248 - mse: 414.9248 - val_loss: 1873.4054 - val_mse: 1873.4054\n",
            "Epoch 13/100\n",
            "443/443 [==============================] - 13s 29ms/step - loss: 357.2429 - mse: 357.2429 - val_loss: 1443.4603 - val_mse: 1443.4603\n",
            "Epoch 14/100\n",
            "443/443 [==============================] - 13s 30ms/step - loss: 336.2451 - mse: 336.2451 - val_loss: 1710.7120 - val_mse: 1710.7120\n",
            "Epoch 15/100\n",
            "443/443 [==============================] - 13s 29ms/step - loss: 300.3979 - mse: 300.3979 - val_loss: 1720.0153 - val_mse: 1720.0153\n",
            "Epoch 16/100\n",
            "443/443 [==============================] - 13s 30ms/step - loss: 262.7524 - mse: 262.7524 - val_loss: 2085.7678 - val_mse: 2085.7678\n",
            "Epoch 17/100\n",
            "443/443 [==============================] - 13s 30ms/step - loss: 250.5253 - mse: 250.5253 - val_loss: 1677.7915 - val_mse: 1677.7915\n",
            "Epoch 18/100\n",
            "443/443 [==============================] - 13s 29ms/step - loss: 216.8907 - mse: 216.8907 - val_loss: 1897.1519 - val_mse: 1897.1519\n",
            "Epoch 19/100\n",
            "443/443 [==============================] - 13s 30ms/step - loss: 195.5019 - mse: 195.5019 - val_loss: 1899.1604 - val_mse: 1899.1604\n",
            "Epoch 20/100\n",
            "443/443 [==============================] - 13s 30ms/step - loss: 185.3126 - mse: 185.3126 - val_loss: 2330.4458 - val_mse: 2330.4458\n",
            "Epoch 21/100\n",
            "443/443 [==============================] - 13s 30ms/step - loss: 173.3155 - mse: 173.3155 - val_loss: 1890.2560 - val_mse: 1890.2560\n",
            "CPU times: user 3min 7s, sys: 1min 15s, total: 4min 22s\n",
            "Wall time: 4min 45s\n"
          ],
          "name": "stdout"
        },
        {
          "output_type": "execute_result",
          "data": {
            "text/plain": [
              "<tensorflow.python.keras.callbacks.History at 0x7ff64b93f390>"
            ]
          },
          "metadata": {
            "tags": []
          },
          "execution_count": 17
        }
      ]
    },
    {
      "cell_type": "markdown",
      "metadata": {
        "id": "jhkJpH0-vmuG"
      },
      "source": [
        "Let's plot the loss"
      ]
    },
    {
      "cell_type": "code",
      "metadata": {
        "colab": {
          "base_uri": "https://localhost:8080/"
        },
        "id": "f4zlR57Zxpr3",
        "outputId": "42e5ef5d-2c37-4a0d-8195-24afaae61fea"
      },
      "source": [
        "history.history.keys()"
      ],
      "execution_count": 19,
      "outputs": [
        {
          "output_type": "execute_result",
          "data": {
            "text/plain": [
              "dict_keys(['loss', 'mse', 'val_loss', 'val_mse'])"
            ]
          },
          "metadata": {
            "tags": []
          },
          "execution_count": 19
        }
      ]
    },
    {
      "cell_type": "code",
      "metadata": {
        "colab": {
          "base_uri": "https://localhost:8080/",
          "height": 296
        },
        "id": "mZJ_dYBnvmuG",
        "outputId": "aff13bd0-2bb3-4205-cc7a-7f98ad314a3e"
      },
      "source": [
        "plt.plot(history.history['mse'])\n",
        "plt.plot(history.history['val_mse'])\n",
        "plt.title('MSE')\n",
        "plt.ylabel('Mean Squared Error')\n",
        "plt.xlabel('# Epoch')\n",
        "plt.legend(['train', 'test'], loc='upper left')\n",
        "plt.show()"
      ],
      "execution_count": 20,
      "outputs": [
        {
          "output_type": "display_data",
          "data": {
            "image/png": "[encoded data removed]",
            "text/plain": [
              "<Figure size 432x288 with 1 Axes>"
            ]
          },
          "metadata": {
            "tags": [],
            "needs_background": "light"
          }
        }
      ]
    },
    {
      "cell_type": "markdown",
      "metadata": {
        "id": "d0uvVgjlvmuH"
      },
      "source": [
        "### Results on Train Set"
      ]
    },
    {
      "cell_type": "code",
      "metadata": {
        "colab": {
          "base_uri": "https://localhost:8080/"
        },
        "id": "Y8fw3L6YvmuH",
        "outputId": "9a0af8db-5a09-4e88-b42a-bf9973aae46a"
      },
      "source": [
        "scores = model.evaluate(x_train, y_train, verbose=1, batch_size=200)\n",
        "print('MSE: {}'.format(scores[1]))"
      ],
      "execution_count": 21,
      "outputs": [
        {
          "output_type": "stream",
          "text": [
            "79/79 [==============================] - 1s 14ms/step - loss: 310.1989 - mse: 310.1989\n",
            "MSE: 310.1988830566406\n"
          ],
          "name": "stdout"
        }
      ]
    },
    {
      "cell_type": "markdown",
      "metadata": {
        "id": "R2afaD0AvmuH"
      },
      "source": [
        "### Results on Test Set"
      ]
    },
    {
      "cell_type": "code",
      "metadata": {
        "colab": {
          "base_uri": "https://localhost:8080/"
        },
        "id": "voR0gDtxvmuI",
        "outputId": "d0a3eeb4-6f93-4da1-c58c-e518c8fdab57"
      },
      "source": [
        "scores_test = model.evaluate(x_test, y_test, verbose=2)\n",
        "print('MSE: {}'.format(scores_test[1]))"
      ],
      "execution_count": 23,
      "outputs": [
        {
          "output_type": "stream",
          "text": [
            "4/4 - 0s - loss: 1103.5586 - mse: 1103.5586\n",
            "MSE: 1103.55859375\n"
          ],
          "name": "stdout"
        }
      ]
    },
    {
      "cell_type": "code",
      "metadata": {
        "colab": {
          "base_uri": "https://localhost:8080/",
          "height": 333
        },
        "id": "Jf9IfCamvmuI",
        "outputId": "af14dcfe-df35-4f15-cd06-480b858c4cd5"
      },
      "source": [
        "y_pred_test = model.predict(x_test, verbose=0)\n",
        "\n",
        "plt.figure(figsize=(10,5))\n",
        "plt.plot(y_pred_test, color='red', label='Prediction')\n",
        "plt.plot(y_test, color='blue', label='Ground Truth')\n",
        "plt.ylabel(\"RUL\")\n",
        "plt.xlabel(\"Unit Number\")\n",
        "plt.legend(loc='upper left')\n",
        "plt.show()"
      ],
      "execution_count": 24,
      "outputs": [
        {
          "output_type": "display_data",
          "data": {
            "image/png": "[encoded data removed]",
            "text/plain": [
              "<Figure size 720x360 with 1 Axes>"
            ]
          },
          "metadata": {
            "tags": [],
            "needs_background": "light"
          }
        }
      ]
    },
    {
      "cell_type": "code",
      "metadata": {
        "id": "YNN9D1l_vmuJ"
      },
      "source": [
        ""
      ],
      "execution_count": null,
      "outputs": []
    }
  ]
}