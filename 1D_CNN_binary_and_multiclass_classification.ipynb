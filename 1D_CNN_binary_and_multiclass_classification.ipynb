{
  "nbformat": 4,
  "nbformat_minor": 0,
  "metadata": {
    "kernelspec": {
      "display_name": "Python 3",
      "language": "python",
      "name": "python3"
    },
    "language_info": {
      "codemirror_mode": {
        "name": "ipython",
        "version": 3
      },
      "file_extension": ".py",
      "mimetype": "text/x-python",
      "name": "python",
      "nbconvert_exporter": "python",
      "pygments_lexer": "ipython3",
      "version": "3.7.3"
    },
    "colab": {
      "name": "1D CNN - binary and multiclass classification.ipynb",
      "provenance": []
    },
    "accelerator": "GPU"
  },
  "cells": [
    {
      "cell_type": "markdown",
      "metadata": {
        "id": "MjGOPaMFaC-T"
      },
      "source": [
        "## 1D CNN Time Series Classification"
      ]
    },
    {
      "cell_type": "markdown",
      "metadata": {
        "id": "0OOX7fJpaC-e"
      },
      "source": [
        "### Importing Required Libraries and Data"
      ]
    },
    {
      "cell_type": "code",
      "metadata": {
        "id": "O0I4hFrHaC-f"
      },
      "source": [
        "import pandas as pd\n",
        "import numpy as np\n",
        "\n",
        "#to plot the data\n",
        "import matplotlib.pyplot as plt\n",
        "import seaborn as sns\n",
        "%matplotlib inline\n",
        "import matplotlib as mpl\n",
        "mpl.rcParams.update(mpl.rcParamsDefault)\n",
        "\n",
        "import time\n",
        "import os\n",
        "# os.chdir(\"C:/Data/aircraft/\")\n",
        "\n",
        "from sklearn.preprocessing import MinMaxScaler #to normalize data\n",
        "from sklearn.metrics import classification_report, confusion_matrix, roc_curve\n",
        "from sklearn.metrics import f1_score, roc_auc_score, accuracy_score, precision_score, recall_score\n",
        "from sklearn.utils import class_weight\n",
        "\n",
        "#for deep learning\n",
        "import keras\n",
        "import keras.backend as k\n",
        "from keras.models import Sequential\n",
        "from keras.layers import Dense, LSTM, Activation, Masking, Dropout, Conv1D, GlobalAveragePooling1D, MaxPooling1D\n",
        "from keras.optimizers import RMSprop, Adam\n",
        "from keras.regularizers import l2\n",
        "from keras.callbacks import History\n",
        "from keras import callbacks\n",
        "from keras.utils import to_categorical"
      ],
      "execution_count": 1,
      "outputs": []
    },
    {
      "cell_type": "code",
      "metadata": {
        "id": "gF0q1gWJaC-h"
      },
      "source": [
        "def prepare_data(drop_cols = True):\n",
        "    dependent_var = ['RUL']\n",
        "    index_columns_names =  [\"UnitNumber\",\"Cycle\"]\n",
        "    operational_settings_columns_names = [\"OpSet\"+str(i) for i in range(1,4)]\n",
        "    sensor_measure_columns_names =[\"SensorMeasure\"+str(i) for i in range(1,22)]\n",
        "    input_file_column_names = index_columns_names + operational_settings_columns_names + sensor_measure_columns_names\n",
        "\n",
        "    cols_to_drop = ['OpSet3', 'SensorMeasure1', 'SensorMeasure5', 'SensorMeasure6', 'SensorMeasure10', 'SensorMeasure14',\n",
        "     'SensorMeasure16', 'SensorMeasure18', 'SensorMeasure19']\n",
        "\n",
        "    df_train = pd.read_csv('https://raw.githubusercontent.com/ericlrf/rul/main/CMAPSSData/train_FD001.txt',delim_whitespace=True,names=input_file_column_names)\n",
        "\n",
        "    rul = pd.DataFrame(df_train.groupby('UnitNumber')['Cycle'].max()).reset_index()\n",
        "    rul.columns = ['UnitNumber', 'max']\n",
        "    df_train = df_train.merge(rul, on=['UnitNumber'], how='left')\n",
        "    df_train['RUL'] = df_train['max'] - df_train['Cycle']\n",
        "    df_train.drop('max', axis=1, inplace=True)\n",
        "    df_train['failure_lbl_1'] = [1 if i < 50 else 0 for i in df_train.RUL]\n",
        "    df_train['failure_lbl_2'] = df_train['failure_lbl_1']\n",
        "    df_train.failure_lbl_2[df_train.RUL < 25] = 2\n",
        "\n",
        "    df_test = pd.read_csv('https://raw.githubusercontent.com/ericlrf/rul/main/CMAPSSData/test_FD001.txt', delim_whitespace=True, names=input_file_column_names)\n",
        "    \n",
        "    if(drop_cols == True):\n",
        "        df_train = df_train.drop(cols_to_drop, axis = 1)\n",
        "        df_test = df_test.drop(cols_to_drop, axis = 1)\n",
        "\n",
        "    y_true = pd.read_csv('https://raw.githubusercontent.com/ericlrf/rul/main/CMAPSSData/RUL_FD001.txt', delim_whitespace=True,names=[\"RUL\"])\n",
        "    y_true[\"UnitNumber\"] = y_true.index\n",
        "    y_true['failure_lbl_1'] = [1 if i < 50 else 0 for i in y_true.RUL]\n",
        "    y_true['failure_lbl_2'] = y_true['failure_lbl_1']\n",
        "    y_true.failure_lbl_2[y_true.RUL < 25] = 2\n",
        "    \n",
        "    return df_train, df_test, y_true"
      ],
      "execution_count": 2,
      "outputs": []
    },
    {
      "cell_type": "code",
      "metadata": {
        "colab": {
          "base_uri": "https://localhost:8080/"
        },
        "id": "Pv9u6CyPaC-i",
        "outputId": "c2344cf0-a31b-423a-9dfa-b63b0a2b7c80"
      },
      "source": [
        "df_train, df_test, y_true = prepare_data(drop_cols=True)\n",
        "df_train.shape, df_test.shape, y_true.shape"
      ],
      "execution_count": 3,
      "outputs": [
        {
          "output_type": "stream",
          "text": [
            "/usr/local/lib/python3.7/dist-packages/ipykernel_launcher.py:20: SettingWithCopyWarning: \n",
            "A value is trying to be set on a copy of a slice from a DataFrame\n",
            "\n",
            "See the caveats in the documentation: https://pandas.pydata.org/pandas-docs/stable/user_guide/indexing.html#returning-a-view-versus-a-copy\n"
          ],
          "name": "stderr"
        },
        {
          "output_type": "execute_result",
          "data": {
            "text/plain": [
              "((20631, 20), (13096, 17), (100, 4))"
            ]
          },
          "metadata": {
            "tags": []
          },
          "execution_count": 3
        }
      ]
    },
    {
      "cell_type": "code",
      "metadata": {
        "id": "nFkCdiOFaC-j"
      },
      "source": [
        "feats = df_train.columns.drop(['UnitNumber', 'Cycle', 'RUL', 'failure_lbl_1', 'failure_lbl_2'])"
      ],
      "execution_count": 4,
      "outputs": []
    },
    {
      "cell_type": "code",
      "metadata": {
        "id": "rDjLVbVtaC-j"
      },
      "source": [
        "min_max_scaler = MinMaxScaler(feature_range=(-1,1))\n",
        "\n",
        "df_train[feats] = min_max_scaler.fit_transform(df_train[feats])\n",
        "df_test[feats] = min_max_scaler.transform(df_test[feats])"
      ],
      "execution_count": 5,
      "outputs": []
    },
    {
      "cell_type": "code",
      "metadata": {
        "scrolled": true,
        "colab": {
          "base_uri": "https://localhost:8080/",
          "height": 224
        },
        "id": "-sKh1861aC-k",
        "outputId": "97969c8b-da49-40f5-9362-49ee9a4e934f"
      },
      "source": [
        "df_train.head()"
      ],
      "execution_count": 6,
      "outputs": [
        {
          "output_type": "execute_result",
          "data": {
            "text/html": [
              "<div>\n",
              "<style scoped>\n",
              "    .dataframe tbody tr th:only-of-type {\n",
              "        vertical-align: middle;\n",
              "    }\n",
              "\n",
              "    .dataframe tbody tr th {\n",
              "        vertical-align: top;\n",
              "    }\n",
              "\n",
              "    .dataframe thead th {\n",
              "        text-align: right;\n",
              "    }\n",
              "</style>\n",
              "<table border=\"1\" class=\"dataframe\">\n",
              "  <thead>\n",
              "    <tr style=\"text-align: right;\">\n",
              "      <th></th>\n",
              "      <th>UnitNumber</th>\n",
              "      <th>Cycle</th>\n",
              "      <th>OpSet1</th>\n",
              "      <th>OpSet2</th>\n",
              "      <th>SensorMeasure2</th>\n",
              "      <th>SensorMeasure3</th>\n",
              "      <th>SensorMeasure4</th>\n",
              "      <th>SensorMeasure7</th>\n",
              "      <th>SensorMeasure8</th>\n",
              "      <th>SensorMeasure9</th>\n",
              "      <th>SensorMeasure11</th>\n",
              "      <th>SensorMeasure12</th>\n",
              "      <th>SensorMeasure13</th>\n",
              "      <th>SensorMeasure15</th>\n",
              "      <th>SensorMeasure17</th>\n",
              "      <th>SensorMeasure20</th>\n",
              "      <th>SensorMeasure21</th>\n",
              "      <th>RUL</th>\n",
              "      <th>failure_lbl_1</th>\n",
              "      <th>failure_lbl_2</th>\n",
              "    </tr>\n",
              "  </thead>\n",
              "  <tbody>\n",
              "    <tr>\n",
              "      <th>0</th>\n",
              "      <td>1</td>\n",
              "      <td>1</td>\n",
              "      <td>-0.080460</td>\n",
              "      <td>-0.666667</td>\n",
              "      <td>-0.632530</td>\n",
              "      <td>-0.186396</td>\n",
              "      <td>-0.380486</td>\n",
              "      <td>0.452496</td>\n",
              "      <td>-0.515152</td>\n",
              "      <td>-0.780490</td>\n",
              "      <td>-0.261905</td>\n",
              "      <td>0.266525</td>\n",
              "      <td>-0.588235</td>\n",
              "      <td>-0.272028</td>\n",
              "      <td>-0.333333</td>\n",
              "      <td>0.426357</td>\n",
              "      <td>0.449323</td>\n",
              "      <td>191</td>\n",
              "      <td>0</td>\n",
              "      <td>0</td>\n",
              "    </tr>\n",
              "    <tr>\n",
              "      <th>1</th>\n",
              "      <td>1</td>\n",
              "      <td>2</td>\n",
              "      <td>0.218391</td>\n",
              "      <td>-0.500000</td>\n",
              "      <td>-0.433735</td>\n",
              "      <td>-0.093961</td>\n",
              "      <td>-0.294733</td>\n",
              "      <td>0.256039</td>\n",
              "      <td>-0.575758</td>\n",
              "      <td>-0.799515</td>\n",
              "      <td>-0.238095</td>\n",
              "      <td>0.530917</td>\n",
              "      <td>-0.441176</td>\n",
              "      <td>-0.177376</td>\n",
              "      <td>-0.333333</td>\n",
              "      <td>0.333333</td>\n",
              "      <td>0.462027</td>\n",
              "      <td>190</td>\n",
              "      <td>0</td>\n",
              "      <td>0</td>\n",
              "    </tr>\n",
              "    <tr>\n",
              "      <th>2</th>\n",
              "      <td>1</td>\n",
              "      <td>3</td>\n",
              "      <td>-0.494253</td>\n",
              "      <td>0.500000</td>\n",
              "      <td>-0.313253</td>\n",
              "      <td>-0.260955</td>\n",
              "      <td>-0.258947</td>\n",
              "      <td>0.420290</td>\n",
              "      <td>-0.454545</td>\n",
              "      <td>-0.719914</td>\n",
              "      <td>-0.500000</td>\n",
              "      <td>0.590618</td>\n",
              "      <td>-0.558824</td>\n",
              "      <td>-0.285110</td>\n",
              "      <td>-0.666667</td>\n",
              "      <td>0.255814</td>\n",
              "      <td>0.242751</td>\n",
              "      <td>189</td>\n",
              "      <td>0</td>\n",
              "      <td>0</td>\n",
              "    </tr>\n",
              "    <tr>\n",
              "      <th>3</th>\n",
              "      <td>1</td>\n",
              "      <td>4</td>\n",
              "      <td>0.080460</td>\n",
              "      <td>0.000000</td>\n",
              "      <td>-0.313253</td>\n",
              "      <td>-0.487683</td>\n",
              "      <td>-0.337610</td>\n",
              "      <td>0.481481</td>\n",
              "      <td>-0.363636</td>\n",
              "      <td>-0.750965</td>\n",
              "      <td>-0.666667</td>\n",
              "      <td>0.778252</td>\n",
              "      <td>-0.411765</td>\n",
              "      <td>-0.666795</td>\n",
              "      <td>-0.333333</td>\n",
              "      <td>0.147287</td>\n",
              "      <td>0.324772</td>\n",
              "      <td>188</td>\n",
              "      <td>0</td>\n",
              "      <td>0</td>\n",
              "    </tr>\n",
              "    <tr>\n",
              "      <th>4</th>\n",
              "      <td>1</td>\n",
              "      <td>5</td>\n",
              "      <td>-0.218391</td>\n",
              "      <td>-0.333333</td>\n",
              "      <td>-0.301205</td>\n",
              "      <td>-0.485066</td>\n",
              "      <td>-0.190749</td>\n",
              "      <td>0.336554</td>\n",
              "      <td>-0.515152</td>\n",
              "      <td>-0.700081</td>\n",
              "      <td>-0.488095</td>\n",
              "      <td>0.492537</td>\n",
              "      <td>-0.529412</td>\n",
              "      <td>-0.195845</td>\n",
              "      <td>-0.166667</td>\n",
              "      <td>0.178295</td>\n",
              "      <td>0.409003</td>\n",
              "      <td>187</td>\n",
              "      <td>0</td>\n",
              "      <td>0</td>\n",
              "    </tr>\n",
              "  </tbody>\n",
              "</table>\n",
              "</div>"
            ],
            "text/plain": [
              "   UnitNumber  Cycle    OpSet1  ...  RUL  failure_lbl_1  failure_lbl_2\n",
              "0           1      1 -0.080460  ...  191              0              0\n",
              "1           1      2  0.218391  ...  190              0              0\n",
              "2           1      3 -0.494253  ...  189              0              0\n",
              "3           1      4  0.080460  ...  188              0              0\n",
              "4           1      5 -0.218391  ...  187              0              0\n",
              "\n",
              "[5 rows x 20 columns]"
            ]
          },
          "metadata": {
            "tags": []
          },
          "execution_count": 6
        }
      ]
    },
    {
      "cell_type": "code",
      "metadata": {
        "colab": {
          "base_uri": "https://localhost:8080/",
          "height": 224
        },
        "id": "OuM2ljDpaC-m",
        "outputId": "6d49bfd9-b78f-42d3-ac41-c60d89605031"
      },
      "source": [
        "df_test.head()"
      ],
      "execution_count": 7,
      "outputs": [
        {
          "output_type": "execute_result",
          "data": {
            "text/html": [
              "<div>\n",
              "<style scoped>\n",
              "    .dataframe tbody tr th:only-of-type {\n",
              "        vertical-align: middle;\n",
              "    }\n",
              "\n",
              "    .dataframe tbody tr th {\n",
              "        vertical-align: top;\n",
              "    }\n",
              "\n",
              "    .dataframe thead th {\n",
              "        text-align: right;\n",
              "    }\n",
              "</style>\n",
              "<table border=\"1\" class=\"dataframe\">\n",
              "  <thead>\n",
              "    <tr style=\"text-align: right;\">\n",
              "      <th></th>\n",
              "      <th>UnitNumber</th>\n",
              "      <th>Cycle</th>\n",
              "      <th>OpSet1</th>\n",
              "      <th>OpSet2</th>\n",
              "      <th>SensorMeasure2</th>\n",
              "      <th>SensorMeasure3</th>\n",
              "      <th>SensorMeasure4</th>\n",
              "      <th>SensorMeasure7</th>\n",
              "      <th>SensorMeasure8</th>\n",
              "      <th>SensorMeasure9</th>\n",
              "      <th>SensorMeasure11</th>\n",
              "      <th>SensorMeasure12</th>\n",
              "      <th>SensorMeasure13</th>\n",
              "      <th>SensorMeasure15</th>\n",
              "      <th>SensorMeasure17</th>\n",
              "      <th>SensorMeasure20</th>\n",
              "      <th>SensorMeasure21</th>\n",
              "    </tr>\n",
              "  </thead>\n",
              "  <tbody>\n",
              "    <tr>\n",
              "      <th>0</th>\n",
              "      <td>1</td>\n",
              "      <td>1</td>\n",
              "      <td>0.264368</td>\n",
              "      <td>0.500000</td>\n",
              "      <td>0.090361</td>\n",
              "      <td>-0.378679</td>\n",
              "      <td>-0.461175</td>\n",
              "      <td>0.304348</td>\n",
              "      <td>-0.575758</td>\n",
              "      <td>-0.744773</td>\n",
              "      <td>-0.583333</td>\n",
              "      <td>0.292111</td>\n",
              "      <td>-0.558824</td>\n",
              "      <td>-0.382070</td>\n",
              "      <td>-0.333333</td>\n",
              "      <td>0.116279</td>\n",
              "      <td>0.323667</td>\n",
              "    </tr>\n",
              "    <tr>\n",
              "      <th>1</th>\n",
              "      <td>1</td>\n",
              "      <td>2</td>\n",
              "      <td>-0.310345</td>\n",
              "      <td>-0.500000</td>\n",
              "      <td>-0.698795</td>\n",
              "      <td>-0.240898</td>\n",
              "      <td>-0.555368</td>\n",
              "      <td>0.610306</td>\n",
              "      <td>-0.666667</td>\n",
              "      <td>-0.706632</td>\n",
              "      <td>-0.226190</td>\n",
              "      <td>0.479744</td>\n",
              "      <td>-0.470588</td>\n",
              "      <td>-0.573682</td>\n",
              "      <td>-0.166667</td>\n",
              "      <td>0.364341</td>\n",
              "      <td>0.373654</td>\n",
              "    </tr>\n",
              "    <tr>\n",
              "      <th>2</th>\n",
              "      <td>1</td>\n",
              "      <td>3</td>\n",
              "      <td>0.034483</td>\n",
              "      <td>0.166667</td>\n",
              "      <td>-0.246988</td>\n",
              "      <td>-0.306736</td>\n",
              "      <td>-0.355503</td>\n",
              "      <td>0.371981</td>\n",
              "      <td>-0.545455</td>\n",
              "      <td>-0.683837</td>\n",
              "      <td>-0.226190</td>\n",
              "      <td>0.398721</td>\n",
              "      <td>-0.558824</td>\n",
              "      <td>-0.082724</td>\n",
              "      <td>-0.166667</td>\n",
              "      <td>0.457364</td>\n",
              "      <td>0.442695</td>\n",
              "    </tr>\n",
              "    <tr>\n",
              "      <th>3</th>\n",
              "      <td>1</td>\n",
              "      <td>4</td>\n",
              "      <td>0.482759</td>\n",
              "      <td>0.000000</td>\n",
              "      <td>-0.259036</td>\n",
              "      <td>-0.429693</td>\n",
              "      <td>-0.183997</td>\n",
              "      <td>0.359098</td>\n",
              "      <td>-0.606061</td>\n",
              "      <td>-0.788567</td>\n",
              "      <td>-0.488095</td>\n",
              "      <td>0.147122</td>\n",
              "      <td>-0.500000</td>\n",
              "      <td>-0.485956</td>\n",
              "      <td>-0.500000</td>\n",
              "      <td>0.333333</td>\n",
              "      <td>0.324220</td>\n",
              "    </tr>\n",
              "    <tr>\n",
              "      <th>4</th>\n",
              "      <td>1</td>\n",
              "      <td>5</td>\n",
              "      <td>0.160920</td>\n",
              "      <td>0.000000</td>\n",
              "      <td>-0.216867</td>\n",
              "      <td>-0.295836</td>\n",
              "      <td>-0.335922</td>\n",
              "      <td>0.388084</td>\n",
              "      <td>-0.666667</td>\n",
              "      <td>-0.795208</td>\n",
              "      <td>-0.452381</td>\n",
              "      <td>0.475480</td>\n",
              "      <td>-0.558824</td>\n",
              "      <td>-0.398230</td>\n",
              "      <td>-0.666667</td>\n",
              "      <td>0.317829</td>\n",
              "      <td>0.432753</td>\n",
              "    </tr>\n",
              "  </tbody>\n",
              "</table>\n",
              "</div>"
            ],
            "text/plain": [
              "   UnitNumber  Cycle  ...  SensorMeasure20  SensorMeasure21\n",
              "0           1      1  ...         0.116279         0.323667\n",
              "1           1      2  ...         0.364341         0.373654\n",
              "2           1      3  ...         0.457364         0.442695\n",
              "3           1      4  ...         0.333333         0.324220\n",
              "4           1      5  ...         0.317829         0.432753\n",
              "\n",
              "[5 rows x 17 columns]"
            ]
          },
          "metadata": {
            "tags": []
          },
          "execution_count": 7
        }
      ]
    },
    {
      "cell_type": "code",
      "metadata": {
        "colab": {
          "base_uri": "https://localhost:8080/",
          "height": 204
        },
        "id": "8XyQ7IoBaC-n",
        "outputId": "2706448e-633e-405c-b2d4-111fb130789f"
      },
      "source": [
        "y_true.head()"
      ],
      "execution_count": 8,
      "outputs": [
        {
          "output_type": "execute_result",
          "data": {
            "text/html": [
              "<div>\n",
              "<style scoped>\n",
              "    .dataframe tbody tr th:only-of-type {\n",
              "        vertical-align: middle;\n",
              "    }\n",
              "\n",
              "    .dataframe tbody tr th {\n",
              "        vertical-align: top;\n",
              "    }\n",
              "\n",
              "    .dataframe thead th {\n",
              "        text-align: right;\n",
              "    }\n",
              "</style>\n",
              "<table border=\"1\" class=\"dataframe\">\n",
              "  <thead>\n",
              "    <tr style=\"text-align: right;\">\n",
              "      <th></th>\n",
              "      <th>RUL</th>\n",
              "      <th>UnitNumber</th>\n",
              "      <th>failure_lbl_1</th>\n",
              "      <th>failure_lbl_2</th>\n",
              "    </tr>\n",
              "  </thead>\n",
              "  <tbody>\n",
              "    <tr>\n",
              "      <th>0</th>\n",
              "      <td>112</td>\n",
              "      <td>0</td>\n",
              "      <td>0</td>\n",
              "      <td>0</td>\n",
              "    </tr>\n",
              "    <tr>\n",
              "      <th>1</th>\n",
              "      <td>98</td>\n",
              "      <td>1</td>\n",
              "      <td>0</td>\n",
              "      <td>0</td>\n",
              "    </tr>\n",
              "    <tr>\n",
              "      <th>2</th>\n",
              "      <td>69</td>\n",
              "      <td>2</td>\n",
              "      <td>0</td>\n",
              "      <td>0</td>\n",
              "    </tr>\n",
              "    <tr>\n",
              "      <th>3</th>\n",
              "      <td>82</td>\n",
              "      <td>3</td>\n",
              "      <td>0</td>\n",
              "      <td>0</td>\n",
              "    </tr>\n",
              "    <tr>\n",
              "      <th>4</th>\n",
              "      <td>91</td>\n",
              "      <td>4</td>\n",
              "      <td>0</td>\n",
              "      <td>0</td>\n",
              "    </tr>\n",
              "  </tbody>\n",
              "</table>\n",
              "</div>"
            ],
            "text/plain": [
              "   RUL  UnitNumber  failure_lbl_1  failure_lbl_2\n",
              "0  112           0              0              0\n",
              "1   98           1              0              0\n",
              "2   69           2              0              0\n",
              "3   82           3              0              0\n",
              "4   91           4              0              0"
            ]
          },
          "metadata": {
            "tags": []
          },
          "execution_count": 8
        }
      ]
    },
    {
      "cell_type": "markdown",
      "metadata": {
        "id": "-8HnT7W6aC-o"
      },
      "source": [
        "\n",
        "LSTM expects an input in the shape of a numpy array of 3 dimensions and I will need to convert train and test data accordingly."
      ]
    },
    {
      "cell_type": "code",
      "metadata": {
        "id": "IQGkFb4OaC-p"
      },
      "source": [
        "def gen_train(id_df, seq_length, seq_cols):\n",
        "    \"\"\"\n",
        "        function to prepare train data into (samples, time steps, features)\n",
        "        id_df = train dataframe\n",
        "        seq_length = look back period\n",
        "        seq_cols = feature columns\n",
        "    \"\"\"\n",
        "        \n",
        "    data_array = id_df[seq_cols].values\n",
        "    num_elements = data_array.shape[0]\n",
        "    lstm_array=[]\n",
        "    \n",
        "    for start, stop in zip(range(0, num_elements-seq_length+1), range(seq_length, num_elements+1)):\n",
        "        lstm_array.append(data_array[start:stop, :])\n",
        "    \n",
        "    return np.array(lstm_array)"
      ],
      "execution_count": 9,
      "outputs": []
    },
    {
      "cell_type": "code",
      "metadata": {
        "id": "gN4P83cBaC-q"
      },
      "source": [
        "def gen_target(id_df, seq_length, label):\n",
        "    data_array = id_df[label].values\n",
        "    num_elements = data_array.shape[0]\n",
        "    return data_array[seq_length-1:num_elements+1]"
      ],
      "execution_count": 10,
      "outputs": []
    },
    {
      "cell_type": "code",
      "metadata": {
        "id": "WY4uJpKjaC-q"
      },
      "source": [
        "def gen_test(id_df, seq_length, seq_cols, mask_value):\n",
        "    \"\"\"\n",
        "        function to prepare test data into (samples, time steps, features)\n",
        "        function only returns last sequence of data for every unit\n",
        "        id_df = test dataframe\n",
        "        seq_length = look back period\n",
        "        seq_cols = feature columns\n",
        "    \"\"\"\n",
        "    df_mask = pd.DataFrame(np.zeros((seq_length-1,id_df.shape[1])),columns=id_df.columns)\n",
        "    df_mask[:] = mask_value\n",
        "    \n",
        "    id_df = df_mask.append(id_df,ignore_index=True)\n",
        "    \n",
        "    data_array = id_df[seq_cols].values\n",
        "    num_elements = data_array.shape[0]\n",
        "    lstm_array=[]\n",
        "    \n",
        "    start = num_elements-seq_length\n",
        "    stop = num_elements\n",
        "    \n",
        "    lstm_array.append(data_array[start:stop, :])\n",
        "    \n",
        "    return np.array(lstm_array)"
      ],
      "execution_count": 11,
      "outputs": []
    },
    {
      "cell_type": "markdown",
      "metadata": {
        "id": "8V5wIzJIaC-r"
      },
      "source": [
        "### Function to Print results"
      ]
    },
    {
      "cell_type": "code",
      "metadata": {
        "id": "g8UwqBtvaC-r"
      },
      "source": [
        "def print_results(y_test, y_pred, multi_class = False):\n",
        "    \n",
        "    #f1-score\n",
        "    if multi_class == True:\n",
        "        f1 = f1_score(y_test, y_pred, average=\"macro\")\n",
        "    else:\n",
        "        f1 = f1_score(y_test, y_pred)\n",
        "    print(\"F1 Score: \", f1)\n",
        "    print(classification_report(y_test, y_pred))\n",
        "    \n",
        "    conf_matrix = confusion_matrix(y_test, y_pred)\n",
        "    plt.figure(figsize=(12,12))\n",
        "    plt.subplot(221)\n",
        "    sns.heatmap(conf_matrix, fmt = \"d\",annot=True, cmap='Blues')\n",
        "    b, t = plt.ylim()\n",
        "    plt.ylim(b + 0.5, t - 0.5)\n",
        "    plt.title('Confuion Matrix')\n",
        "    plt.ylabel('True Values')\n",
        "    plt.xlabel('Predicted Values')\n",
        "\n",
        "    #roc_auc_score\n",
        "    if multi_class == False:\n",
        "        model_roc_auc = roc_auc_score(y_test, y_pred) \n",
        "        print (\"Area under curve : \",model_roc_auc,\"\\n\")\n",
        "        fpr,tpr,thresholds = roc_curve(y_test, y_pred)\n",
        "        gmeans = np.sqrt(tpr * (1-fpr))\n",
        "        ix = np.argmax(gmeans)\n",
        "        threshold = np.round(thresholds[ix],3)\n",
        "\n",
        "        plt.subplot(222)\n",
        "        plt.plot(fpr, tpr, color='darkorange', lw=1, label = \"Auc : %.3f\" %model_roc_auc)\n",
        "        plt.plot([0, 1], [0, 1], color='navy', lw=2, linestyle='--')\n",
        "        plt.scatter(fpr[ix], tpr[ix], marker='o', color='black', label='Best Threshold:' + str(threshold))\n",
        "        plt.xlim([0.0, 1.0])\n",
        "        plt.ylim([0.0, 1.05])\n",
        "        plt.xlabel('False Positive Rate')\n",
        "        plt.ylabel('True Positive Rate')\n",
        "        plt.title('Receiver operating characteristic')\n",
        "        plt.legend(loc=\"lower right\")"
      ],
      "execution_count": 12,
      "outputs": []
    },
    {
      "cell_type": "markdown",
      "metadata": {
        "id": "6MEXLwU0aC-s"
      },
      "source": [
        "## Binary Classification"
      ]
    },
    {
      "cell_type": "code",
      "metadata": {
        "id": "dSoKQzHFaC-t"
      },
      "source": [
        "sequence_length = 50\n",
        "mask_value = 0\n",
        "label = \"failure_lbl_1\""
      ],
      "execution_count": 13,
      "outputs": []
    },
    {
      "cell_type": "markdown",
      "metadata": {
        "id": "g9YIAddOaC-t"
      },
      "source": [
        "\n",
        "Let's prepare data using above functions."
      ]
    },
    {
      "cell_type": "code",
      "metadata": {
        "colab": {
          "base_uri": "https://localhost:8080/"
        },
        "id": "nX5aJQcZaC-u",
        "outputId": "81b4a3ac-1ff6-40bd-cd04-3368e2930359"
      },
      "source": [
        "#generate train\n",
        "x_train=np.concatenate(list(list(gen_train(df_train[df_train['UnitNumber']==unit], sequence_length, feats)) for unit in df_train['UnitNumber'].unique()))\n",
        "print(x_train.shape)"
      ],
      "execution_count": 14,
      "outputs": [
        {
          "output_type": "stream",
          "text": [
            "(15731, 50, 15)\n"
          ],
          "name": "stdout"
        }
      ]
    },
    {
      "cell_type": "code",
      "metadata": {
        "scrolled": true,
        "colab": {
          "base_uri": "https://localhost:8080/"
        },
        "id": "NCyqMAUJaC-u",
        "outputId": "5c6ecd01-8253-46b1-9054-2d8fae4e8894"
      },
      "source": [
        "#generate target of train\n",
        "y_train = np.concatenate(list(list(gen_target(df_train[df_train['UnitNumber']==unit], sequence_length, label)) for unit in df_train['UnitNumber'].unique()))\n",
        "y_train.shape"
      ],
      "execution_count": 15,
      "outputs": [
        {
          "output_type": "execute_result",
          "data": {
            "text/plain": [
              "(15731,)"
            ]
          },
          "metadata": {
            "tags": []
          },
          "execution_count": 15
        }
      ]
    },
    {
      "cell_type": "code",
      "metadata": {
        "colab": {
          "base_uri": "https://localhost:8080/"
        },
        "id": "XV6EPGy4aC-v",
        "outputId": "b78e5b04-d654-4a40-80a8-858c2be95511"
      },
      "source": [
        "#generate test\n",
        "x_test=np.concatenate(list(list(gen_test(df_test[df_test['UnitNumber']==unit], sequence_length, feats, mask_value)) for unit in df_test['UnitNumber'].unique()))\n",
        "print(x_test.shape)"
      ],
      "execution_count": 16,
      "outputs": [
        {
          "output_type": "stream",
          "text": [
            "(100, 50, 15)\n"
          ],
          "name": "stdout"
        }
      ]
    },
    {
      "cell_type": "code",
      "metadata": {
        "colab": {
          "base_uri": "https://localhost:8080/"
        },
        "id": "X7xVVmbEaC-v",
        "outputId": "d9639321-d5e1-4609-9854-0a7f9a3cbc79"
      },
      "source": [
        "#true target of test \n",
        "y_test = y_true.RUL.values\n",
        "y_test.shape"
      ],
      "execution_count": 17,
      "outputs": [
        {
          "output_type": "execute_result",
          "data": {
            "text/plain": [
              "(100,)"
            ]
          },
          "metadata": {
            "tags": []
          },
          "execution_count": 17
        }
      ]
    },
    {
      "cell_type": "code",
      "metadata": {
        "id": "wXU0A805aC-w"
      },
      "source": [
        "nb_features = x_train.shape[2]\n",
        "nb_out = 1"
      ],
      "execution_count": 18,
      "outputs": []
    },
    {
      "cell_type": "code",
      "metadata": {
        "colab": {
          "base_uri": "https://localhost:8080/"
        },
        "id": "Gc7M3b_aaC-w",
        "outputId": "76a3c71c-688d-4535-c65a-0b4948cd742f"
      },
      "source": [
        "nb_features"
      ],
      "execution_count": 19,
      "outputs": [
        {
          "output_type": "execute_result",
          "data": {
            "text/plain": [
              "15"
            ]
          },
          "metadata": {
            "tags": []
          },
          "execution_count": 19
        }
      ]
    },
    {
      "cell_type": "code",
      "metadata": {
        "colab": {
          "base_uri": "https://localhost:8080/"
        },
        "id": "jJHFHsq8aC-x",
        "outputId": "04aafce4-2f64-42ab-dedd-305c3a30ddc8"
      },
      "source": [
        "cls_wt= class_weight.compute_class_weight('balanced',np.unique(y_train), y_train)\n",
        "cls_wt"
      ],
      "execution_count": 20,
      "outputs": [
        {
          "output_type": "execute_result",
          "data": {
            "text/plain": [
              "array([0.7329699, 1.5731   ])"
            ]
          },
          "metadata": {
            "tags": []
          },
          "execution_count": 20
        }
      ]
    },
    {
      "cell_type": "markdown",
      "metadata": {
        "id": "Vynx-eKcaC-x"
      },
      "source": [
        "### Model"
      ]
    },
    {
      "cell_type": "code",
      "metadata": {
        "colab": {
          "base_uri": "https://localhost:8080/"
        },
        "id": "eUKQv50BaC-x",
        "outputId": "20f85856-eab5-47eb-c310-f9b7fd894ce3"
      },
      "source": [
        "history = History()\n",
        "\n",
        "model = Sequential()\n",
        "model.add(Conv1D(50, 6, activation = 'relu', input_shape=(sequence_length, nb_features)))\n",
        "model.add(Conv1D(50, 6, activation = 'relu'))\n",
        "model.add(MaxPooling1D(3))\n",
        "model.add(Conv1D(100, 6, activation = 'relu'))\n",
        "model.add(Conv1D(100, 6, activation = 'relu'))\n",
        "model.add(GlobalAveragePooling1D())\n",
        "model.add(Dropout(0.5))\n",
        "model.add(Dense(units=1, activation='sigmoid'))\n",
        "\n",
        "model.compile(loss=\"binary_crossentropy\", optimizer=\"adam\", metrics=['accuracy'])\n",
        "\n",
        "model.summary()"
      ],
      "execution_count": 21,
      "outputs": [
        {
          "output_type": "stream",
          "text": [
            "Model: \"sequential\"\n",
            "_________________________________________________________________\n",
            "Layer (type)                 Output Shape              Param #   \n",
            "=================================================================\n",
            "conv1d (Conv1D)              (None, 45, 50)            4550      \n",
            "_________________________________________________________________\n",
            "conv1d_1 (Conv1D)            (None, 40, 50)            15050     \n",
            "_________________________________________________________________\n",
            "max_pooling1d (MaxPooling1D) (None, 13, 50)            0         \n",
            "_________________________________________________________________\n",
            "conv1d_2 (Conv1D)            (None, 8, 100)            30100     \n",
            "_________________________________________________________________\n",
            "conv1d_3 (Conv1D)            (None, 3, 100)            60100     \n",
            "_________________________________________________________________\n",
            "global_average_pooling1d (Gl (None, 100)               0         \n",
            "_________________________________________________________________\n",
            "dropout (Dropout)            (None, 100)               0         \n",
            "_________________________________________________________________\n",
            "dense (Dense)                (None, 1)                 101       \n",
            "=================================================================\n",
            "Total params: 109,901\n",
            "Trainable params: 109,901\n",
            "Non-trainable params: 0\n",
            "_________________________________________________________________\n"
          ],
          "name": "stdout"
        }
      ]
    },
    {
      "cell_type": "code",
      "metadata": {
        "colab": {
          "base_uri": "https://localhost:8080/",
          "height": 34
        },
        "id": "9UsLzeZjkRiB",
        "outputId": "b95735e2-7ff3-4f0f-e0bb-638cb434855f"
      },
      "source": [
        "# type(cls_wt)\r\n",
        "cls_wt_list = cls_wt.tolist()\r\n",
        "# display(cls_wt_list)\r\n",
        "cls_wt_dict = dict(enumerate(cls_wt_list))\r\n",
        "display(cls_wt_dict)"
      ],
      "execution_count": 22,
      "outputs": [
        {
          "output_type": "display_data",
          "data": {
            "text/plain": [
              "{0: 0.7329699002888826, 1: 1.5731}"
            ]
          },
          "metadata": {
            "tags": []
          }
        }
      ]
    },
    {
      "cell_type": "code",
      "metadata": {
        "scrolled": true,
        "colab": {
          "base_uri": "https://localhost:8080/"
        },
        "id": "YdpfDRJ8aC-y",
        "outputId": "1e81967f-f196-4504-978f-cd3b945b1f0c"
      },
      "source": [
        "%%time\n",
        "# fit the model\n",
        "model.fit(x_train, y_train, epochs=10, batch_size=64, validation_split=0.1, verbose=1, class_weight=cls_wt_dict,\n",
        "          callbacks = [history,\n",
        "                      keras.callbacks.EarlyStopping(monitor='val_loss', min_delta=0, patience=3, verbose=0, mode='auto')])"
      ],
      "execution_count": 23,
      "outputs": [
        {
          "output_type": "stream",
          "text": [
            "Epoch 1/10\n",
            "222/222 [==============================] - 3s 6ms/step - loss: 0.3245 - accuracy: 0.8672 - val_loss: 0.1638 - val_accuracy: 0.9263\n",
            "Epoch 2/10\n",
            "222/222 [==============================] - 1s 4ms/step - loss: 0.1220 - accuracy: 0.9563 - val_loss: 0.2430 - val_accuracy: 0.9161\n",
            "Epoch 3/10\n",
            "222/222 [==============================] - 1s 4ms/step - loss: 0.0727 - accuracy: 0.9726 - val_loss: 0.2530 - val_accuracy: 0.9257\n",
            "Epoch 4/10\n",
            "222/222 [==============================] - 1s 4ms/step - loss: 0.0376 - accuracy: 0.9854 - val_loss: 0.2515 - val_accuracy: 0.9206\n",
            "CPU times: user 5.76 s, sys: 986 ms, total: 6.74 s\n",
            "Wall time: 5.83 s\n"
          ],
          "name": "stdout"
        },
        {
          "output_type": "execute_result",
          "data": {
            "text/plain": [
              "<tensorflow.python.keras.callbacks.History at 0x7fb5b02ed950>"
            ]
          },
          "metadata": {
            "tags": []
          },
          "execution_count": 23
        }
      ]
    },
    {
      "cell_type": "code",
      "metadata": {
        "colab": {
          "base_uri": "https://localhost:8080/"
        },
        "id": "BexyetsSpekw",
        "outputId": "b0ebc6ec-3757-4f9b-9964-3bb01b016e2a"
      },
      "source": [
        "history.history.keys()"
      ],
      "execution_count": 24,
      "outputs": [
        {
          "output_type": "execute_result",
          "data": {
            "text/plain": [
              "dict_keys(['loss', 'accuracy', 'val_loss', 'val_accuracy'])"
            ]
          },
          "metadata": {
            "tags": []
          },
          "execution_count": 24
        }
      ]
    },
    {
      "cell_type": "code",
      "metadata": {
        "colab": {
          "base_uri": "https://localhost:8080/",
          "height": 312
        },
        "id": "RiQ0GkFzaC-z",
        "outputId": "f485a19e-1fd0-4a95-ae95-025c42884609"
      },
      "source": [
        "fig, ax = plt.subplots(nrows = 1, ncols = 2, figsize = (10, 4))\n",
        "\n",
        "# Accuracy\n",
        "ax[0].plot(history.history['accuracy'])\n",
        "ax[0].plot(history.history['val_accuracy'])\n",
        "ax[0].set_ylabel('Accuracy')\n",
        "ax[0].set_xlabel('# Epoch')\n",
        "ax[0].legend(['train', 'validation'], loc='upper left')\n",
        "ax[0].set_title('Accuracy')\n",
        "\n",
        "# Loss\n",
        "ax[1].plot(history.history['loss'])\n",
        "ax[1].plot(history.history['val_loss'])\n",
        "ax[1].set_ylabel('Loss')\n",
        "ax[1].set_xlabel('# Epoch')\n",
        "ax[1].legend(['train', 'validation'], loc='upper left')\n",
        "ax[1].set_title('Loss')"
      ],
      "execution_count": 25,
      "outputs": [
        {
          "output_type": "execute_result",
          "data": {
            "text/plain": [
              "Text(0.5, 1.0, 'Loss')"
            ]
          },
          "metadata": {
            "tags": []
          },
          "execution_count": 25
        },
        {
          "output_type": "display_data",
          "data": {
            "image/png": "[encoded data removed]",
            "text/plain": [
              "<Figure size 720x288 with 2 Axes>"
            ]
          },
          "metadata": {
            "tags": [],
            "needs_background": "light"
          }
        }
      ]
    },
    {
      "cell_type": "code",
      "metadata": {
        "colab": {
          "base_uri": "https://localhost:8080/",
          "height": 632
        },
        "id": "1aAR_n70aC-z",
        "outputId": "5fef1483-e754-42bc-aba6-d3ff5ff9308f"
      },
      "source": [
        "y_pred = model.predict_classes(x_test)\n",
        "\n",
        "print_results(y_true.failure_lbl_1, y_pred)"
      ],
      "execution_count": 26,
      "outputs": [
        {
          "output_type": "stream",
          "text": [
            "/usr/local/lib/python3.7/dist-packages/tensorflow/python/keras/engine/sequential.py:450: UserWarning: `model.predict_classes()` is deprecated and will be removed after 2021-01-01. Please use instead:* `np.argmax(model.predict(x), axis=-1)`,   if your model does multi-class classification   (e.g. if it uses a `softmax` last-layer activation).* `(model.predict(x) > 0.5).astype(\"int32\")`,   if your model does binary classification   (e.g. if it uses a `sigmoid` last-layer activation).\n",
            "  warnings.warn('`model.predict_classes()` is deprecated and '\n"
          ],
          "name": "stderr"
        },
        {
          "output_type": "stream",
          "text": [
            "F1 Score:  0.9180327868852459\n",
            "              precision    recall  f1-score   support\n",
            "\n",
            "           0       0.97      0.96      0.96        70\n",
            "           1       0.90      0.93      0.92        30\n",
            "\n",
            "    accuracy                           0.95       100\n",
            "   macro avg       0.94      0.95      0.94       100\n",
            "weighted avg       0.95      0.95      0.95       100\n",
            "\n",
            "Area under curve :  0.9452380952380953 \n",
            "\n"
          ],
          "name": "stdout"
        },
        {
          "output_type": "display_data",
          "data": {
            "image/png": "[encoded data removed]",
            "text/plain": [
              "<Figure size 864x864 with 3 Axes>"
            ]
          },
          "metadata": {
            "tags": [],
            "needs_background": "light"
          }
        }
      ]
    },
    {
      "cell_type": "code",
      "metadata": {
        "colab": {
          "base_uri": "https://localhost:8080/"
        },
        "id": "nIlGsV6naC-0",
        "outputId": "605422bb-b018-424f-9c3f-373f8c95afa8"
      },
      "source": [
        "confusion_matrix(y_train, model.predict_classes(x_train))"
      ],
      "execution_count": 27,
      "outputs": [
        {
          "output_type": "stream",
          "text": [
            "/usr/local/lib/python3.7/dist-packages/tensorflow/python/keras/engine/sequential.py:450: UserWarning: `model.predict_classes()` is deprecated and will be removed after 2021-01-01. Please use instead:* `np.argmax(model.predict(x), axis=-1)`,   if your model does multi-class classification   (e.g. if it uses a `softmax` last-layer activation).* `(model.predict(x) > 0.5).astype(\"int32\")`,   if your model does binary classification   (e.g. if it uses a `sigmoid` last-layer activation).\n",
            "  warnings.warn('`model.predict_classes()` is deprecated and '\n"
          ],
          "name": "stderr"
        },
        {
          "output_type": "execute_result",
          "data": {
            "text/plain": [
              "array([[10580,   151],\n",
              "       [  114,  4886]])"
            ]
          },
          "metadata": {
            "tags": []
          },
          "execution_count": 27
        }
      ]
    },
    {
      "cell_type": "markdown",
      "metadata": {
        "id": "6WV5uTAFaC-0"
      },
      "source": [
        "## Multiclass Classification"
      ]
    },
    {
      "cell_type": "code",
      "metadata": {
        "id": "mvS65FSRaC-0"
      },
      "source": [
        "sequence_length = 50\n",
        "mask_value = 0\n",
        "label = \"failure_lbl_2\""
      ],
      "execution_count": 28,
      "outputs": []
    },
    {
      "cell_type": "markdown",
      "metadata": {
        "id": "3kUsW3g1aC-1"
      },
      "source": [
        "\n",
        "Let's prepare data using above functions."
      ]
    },
    {
      "cell_type": "code",
      "metadata": {
        "colab": {
          "base_uri": "https://localhost:8080/"
        },
        "id": "IGhlOz_LaC-1",
        "outputId": "5acebdb8-6b71-4c87-ff25-574594d53972"
      },
      "source": [
        "#generate train\n",
        "x_train=np.concatenate(list(list(gen_train(df_train[df_train['UnitNumber']==unit], sequence_length, feats)) for unit in df_train['UnitNumber'].unique()))\n",
        "print(x_train.shape)"
      ],
      "execution_count": 29,
      "outputs": [
        {
          "output_type": "stream",
          "text": [
            "(15731, 50, 15)\n"
          ],
          "name": "stdout"
        }
      ]
    },
    {
      "cell_type": "code",
      "metadata": {
        "scrolled": true,
        "colab": {
          "base_uri": "https://localhost:8080/"
        },
        "id": "ueIUMESbaC-1",
        "outputId": "96127e3e-d2ae-4af9-9f30-d0288d12678b"
      },
      "source": [
        "#generate target of train\n",
        "y_train = np.concatenate(list(list(gen_target(df_train[df_train['UnitNumber']==unit], sequence_length, label)) for unit in df_train['UnitNumber'].unique()))\n",
        "y_train.shape"
      ],
      "execution_count": 30,
      "outputs": [
        {
          "output_type": "execute_result",
          "data": {
            "text/plain": [
              "(15731,)"
            ]
          },
          "metadata": {
            "tags": []
          },
          "execution_count": 30
        }
      ]
    },
    {
      "cell_type": "code",
      "metadata": {
        "colab": {
          "base_uri": "https://localhost:8080/"
        },
        "id": "_hbGgnFdaC-2",
        "outputId": "6cb8b1e3-db99-412a-8008-e098a838720e"
      },
      "source": [
        "y_train2 = to_categorical(y_train)\n",
        "y_train2"
      ],
      "execution_count": 31,
      "outputs": [
        {
          "output_type": "execute_result",
          "data": {
            "text/plain": [
              "array([[1., 0., 0.],\n",
              "       [1., 0., 0.],\n",
              "       [1., 0., 0.],\n",
              "       ...,\n",
              "       [0., 0., 1.],\n",
              "       [0., 0., 1.],\n",
              "       [0., 0., 1.]], dtype=float32)"
            ]
          },
          "metadata": {
            "tags": []
          },
          "execution_count": 31
        }
      ]
    },
    {
      "cell_type": "code",
      "metadata": {
        "colab": {
          "base_uri": "https://localhost:8080/"
        },
        "id": "QxMN-H8JaC-2",
        "outputId": "9ff818b8-7111-41c8-84c1-7ca404fd2ab6"
      },
      "source": [
        "#generate test\n",
        "x_test=np.concatenate(list(list(gen_test(df_test[df_test['UnitNumber']==unit], sequence_length, feats, mask_value)) for unit in df_test['UnitNumber'].unique()))\n",
        "print(x_test.shape)"
      ],
      "execution_count": 32,
      "outputs": [
        {
          "output_type": "stream",
          "text": [
            "(100, 50, 15)\n"
          ],
          "name": "stdout"
        }
      ]
    },
    {
      "cell_type": "code",
      "metadata": {
        "id": "jy8e4gALaC-3"
      },
      "source": [
        "nb_features = x_train.shape[2]\n",
        "nb_out = 1"
      ],
      "execution_count": 33,
      "outputs": []
    },
    {
      "cell_type": "code",
      "metadata": {
        "colab": {
          "base_uri": "https://localhost:8080/"
        },
        "id": "wcrzzqveaC-3",
        "outputId": "8893a0ed-a34e-4598-80c0-de5fa59e5c6a"
      },
      "source": [
        "nb_features"
      ],
      "execution_count": 34,
      "outputs": [
        {
          "output_type": "execute_result",
          "data": {
            "text/plain": [
              "15"
            ]
          },
          "metadata": {
            "tags": []
          },
          "execution_count": 34
        }
      ]
    },
    {
      "cell_type": "code",
      "metadata": {
        "scrolled": true,
        "colab": {
          "base_uri": "https://localhost:8080/"
        },
        "id": "VLz84L9maC-3",
        "outputId": "dc004984-9c82-49e8-999c-7f2592e931b1"
      },
      "source": [
        "cls_wt= class_weight.compute_class_weight('balanced',np.unique(y_train), y_train)\n",
        "cls_wt"
      ],
      "execution_count": 35,
      "outputs": [
        {
          "output_type": "execute_result",
          "data": {
            "text/plain": [
              "array([0.4886466 , 2.09746667, 2.09746667])"
            ]
          },
          "metadata": {
            "tags": []
          },
          "execution_count": 35
        }
      ]
    },
    {
      "cell_type": "markdown",
      "metadata": {
        "id": "KH6dhvX0aC-4"
      },
      "source": [
        "### Model"
      ]
    },
    {
      "cell_type": "code",
      "metadata": {
        "colab": {
          "base_uri": "https://localhost:8080/"
        },
        "id": "d07M8YOvaC-4",
        "outputId": "14a9a60d-1337-46fb-fdb1-b14af7447e82"
      },
      "source": [
        "history2 = History()\n",
        "\n",
        "model2 = Sequential()\n",
        "model2.add(Conv1D(50, 6, activation = 'relu', input_shape=(sequence_length, nb_features)))\n",
        "model2.add(Conv1D(50, 6, activation = 'relu'))\n",
        "model2.add(MaxPooling1D(3))\n",
        "model2.add(Conv1D(100, 6, activation = 'relu'))\n",
        "model2.add(Conv1D(100, 6, activation = 'relu'))\n",
        "model2.add(GlobalAveragePooling1D())\n",
        "model2.add(Dropout(0.5))\n",
        "model2.add(Dense(units=3, activation='softmax'))\n",
        "\n",
        "model2.compile(loss=\"categorical_crossentropy\", optimizer=\"adam\", metrics=['accuracy'])\n",
        "\n",
        "model2.summary()"
      ],
      "execution_count": 36,
      "outputs": [
        {
          "output_type": "stream",
          "text": [
            "Model: \"sequential_1\"\n",
            "_________________________________________________________________\n",
            "Layer (type)                 Output Shape              Param #   \n",
            "=================================================================\n",
            "conv1d_4 (Conv1D)            (None, 45, 50)            4550      \n",
            "_________________________________________________________________\n",
            "conv1d_5 (Conv1D)            (None, 40, 50)            15050     \n",
            "_________________________________________________________________\n",
            "max_pooling1d_1 (MaxPooling1 (None, 13, 50)            0         \n",
            "_________________________________________________________________\n",
            "conv1d_6 (Conv1D)            (None, 8, 100)            30100     \n",
            "_________________________________________________________________\n",
            "conv1d_7 (Conv1D)            (None, 3, 100)            60100     \n",
            "_________________________________________________________________\n",
            "global_average_pooling1d_1 ( (None, 100)               0         \n",
            "_________________________________________________________________\n",
            "dropout_1 (Dropout)          (None, 100)               0         \n",
            "_________________________________________________________________\n",
            "dense_1 (Dense)              (None, 3)                 303       \n",
            "=================================================================\n",
            "Total params: 110,103\n",
            "Trainable params: 110,103\n",
            "Non-trainable params: 0\n",
            "_________________________________________________________________\n"
          ],
          "name": "stdout"
        }
      ]
    },
    {
      "cell_type": "code",
      "metadata": {
        "colab": {
          "base_uri": "https://localhost:8080/",
          "height": 34
        },
        "id": "vb2goFQuqG97",
        "outputId": "64516037-c355-46e1-df55-a344d0fe1032"
      },
      "source": [
        "# type(cls_wt)\r\n",
        "cls_wt_list = cls_wt.tolist()\r\n",
        "# display(cls_wt_list)\r\n",
        "cls_wt_dict = dict(enumerate(cls_wt_list))\r\n",
        "display(cls_wt_dict)"
      ],
      "execution_count": 37,
      "outputs": [
        {
          "output_type": "display_data",
          "data": {
            "text/plain": [
              "{0: 0.48864660019258843, 1: 2.0974666666666666, 2: 2.0974666666666666}"
            ]
          },
          "metadata": {
            "tags": []
          }
        }
      ]
    },
    {
      "cell_type": "code",
      "metadata": {
        "scrolled": true,
        "colab": {
          "base_uri": "https://localhost:8080/"
        },
        "id": "C6D4-80jaC-4",
        "outputId": "c171975b-1ecc-4f55-9bb8-c31ef4c1473c"
      },
      "source": [
        "%%time\n",
        "# fit the model\n",
        "model2.fit(x_train, y_train2, epochs=10, batch_size=64, validation_split=0.1, verbose=1, class_weight = cls_wt_dict,\n",
        "          callbacks = [history2,\n",
        "                      keras.callbacks.EarlyStopping(monitor='val_loss', min_delta=0, patience=3, verbose=0, mode='auto')])"
      ],
      "execution_count": 38,
      "outputs": [
        {
          "output_type": "stream",
          "text": [
            "Epoch 1/10\n",
            "222/222 [==============================] - 2s 5ms/step - loss: 0.6213 - accuracy: 0.7717 - val_loss: 0.2769 - val_accuracy: 0.8818\n",
            "Epoch 2/10\n",
            "222/222 [==============================] - 1s 4ms/step - loss: 0.2769 - accuracy: 0.9067 - val_loss: 0.3047 - val_accuracy: 0.8774\n",
            "Epoch 3/10\n",
            "222/222 [==============================] - 1s 4ms/step - loss: 0.2018 - accuracy: 0.9284 - val_loss: 0.3166 - val_accuracy: 0.8939\n",
            "Epoch 4/10\n",
            "222/222 [==============================] - 1s 3ms/step - loss: 0.1357 - accuracy: 0.9534 - val_loss: 0.4763 - val_accuracy: 0.8463\n",
            "CPU times: user 4.6 s, sys: 499 ms, total: 5.1 s\n",
            "Wall time: 4.19 s\n"
          ],
          "name": "stdout"
        },
        {
          "output_type": "execute_result",
          "data": {
            "text/plain": [
              "<tensorflow.python.keras.callbacks.History at 0x7fb550590190>"
            ]
          },
          "metadata": {
            "tags": []
          },
          "execution_count": 38
        }
      ]
    },
    {
      "cell_type": "code",
      "metadata": {
        "colab": {
          "base_uri": "https://localhost:8080/"
        },
        "id": "2ynWWZvVquZS",
        "outputId": "f031dee2-898e-485a-c63c-4eb99466ad12"
      },
      "source": [
        "history.history.keys()"
      ],
      "execution_count": 39,
      "outputs": [
        {
          "output_type": "execute_result",
          "data": {
            "text/plain": [
              "dict_keys(['loss', 'accuracy', 'val_loss', 'val_accuracy'])"
            ]
          },
          "metadata": {
            "tags": []
          },
          "execution_count": 39
        }
      ]
    },
    {
      "cell_type": "code",
      "metadata": {
        "colab": {
          "base_uri": "https://localhost:8080/",
          "height": 312
        },
        "id": "WVAvA_LJaC-5",
        "outputId": "5325df0e-6beb-4e5a-dc34-7e320b540f68"
      },
      "source": [
        "fig, ax = plt.subplots(nrows = 1, ncols = 2, figsize = (10, 4))\n",
        "\n",
        "# Accuracy\n",
        "ax[0].plot(history2.history['accuracy'])\n",
        "ax[0].plot(history2.history['val_accuracy'])\n",
        "ax[0].set_ylabel('Accuracy')\n",
        "ax[0].set_xlabel('# Epoch')\n",
        "ax[0].legend(['train', 'validation'], loc='upper left')\n",
        "ax[0].set_title('Accuracy')\n",
        "\n",
        "# Loss\n",
        "ax[1].plot(history2.history['loss'])\n",
        "ax[1].plot(history2.history['val_loss'])\n",
        "ax[1].set_ylabel('Loss')\n",
        "ax[1].set_xlabel('# Epoch')\n",
        "ax[1].legend(['train', 'validation'], loc='upper left')\n",
        "ax[1].set_title('Loss')"
      ],
      "execution_count": 40,
      "outputs": [
        {
          "output_type": "execute_result",
          "data": {
            "text/plain": [
              "Text(0.5, 1.0, 'Loss')"
            ]
          },
          "metadata": {
            "tags": []
          },
          "execution_count": 40
        },
        {
          "output_type": "display_data",
          "data": {
            "image/png": "[encoded data removed]",
            "text/plain": [
              "<Figure size 720x288 with 2 Axes>"
            ]
          },
          "metadata": {
            "tags": [],
            "needs_background": "light"
          }
        }
      ]
    },
    {
      "cell_type": "code",
      "metadata": {
        "colab": {
          "base_uri": "https://localhost:8080/",
          "height": 615
        },
        "id": "QMIm5hcaaC-5",
        "outputId": "42f8fcf0-8319-4b9c-900b-b5acbe006a99"
      },
      "source": [
        "y_pred = model2.predict_classes(x_test)\n",
        "\n",
        "print_results(y_true.failure_lbl_2, y_pred, multi_class=True)"
      ],
      "execution_count": 41,
      "outputs": [
        {
          "output_type": "stream",
          "text": [
            "/usr/local/lib/python3.7/dist-packages/tensorflow/python/keras/engine/sequential.py:450: UserWarning: `model.predict_classes()` is deprecated and will be removed after 2021-01-01. Please use instead:* `np.argmax(model.predict(x), axis=-1)`,   if your model does multi-class classification   (e.g. if it uses a `softmax` last-layer activation).* `(model.predict(x) > 0.5).astype(\"int32\")`,   if your model does binary classification   (e.g. if it uses a `sigmoid` last-layer activation).\n",
            "  warnings.warn('`model.predict_classes()` is deprecated and '\n"
          ],
          "name": "stderr"
        },
        {
          "output_type": "stream",
          "text": [
            "F1 Score:  0.8098370927318296\n",
            "              precision    recall  f1-score   support\n",
            "\n",
            "           0       1.00      0.90      0.95        70\n",
            "           1       0.48      0.91      0.62        11\n",
            "           2       0.94      0.79      0.86        19\n",
            "\n",
            "    accuracy                           0.88       100\n",
            "   macro avg       0.80      0.87      0.81       100\n",
            "weighted avg       0.93      0.88      0.89       100\n",
            "\n"
          ],
          "name": "stdout"
        },
        {
          "output_type": "display_data",
          "data": {
            "image/png": "[encoded data removed]",
            "text/plain": [
              "<Figure size 864x864 with 2 Axes>"
            ]
          },
          "metadata": {
            "tags": [],
            "needs_background": "light"
          }
        }
      ]
    },
    {
      "cell_type": "code",
      "metadata": {
        "colab": {
          "base_uri": "https://localhost:8080/"
        },
        "id": "qWPq8UjFaC-6",
        "outputId": "192a3282-3f69-449f-c7cd-3308df7afcba"
      },
      "source": [
        "confusion_matrix(y_train, model2.predict_classes(x_train))"
      ],
      "execution_count": 42,
      "outputs": [
        {
          "output_type": "stream",
          "text": [
            "/usr/local/lib/python3.7/dist-packages/tensorflow/python/keras/engine/sequential.py:450: UserWarning: `model.predict_classes()` is deprecated and will be removed after 2021-01-01. Please use instead:* `np.argmax(model.predict(x), axis=-1)`,   if your model does multi-class classification   (e.g. if it uses a `softmax` last-layer activation).* `(model.predict(x) > 0.5).astype(\"int32\")`,   if your model does binary classification   (e.g. if it uses a `sigmoid` last-layer activation).\n",
            "  warnings.warn('`model.predict_classes()` is deprecated and '\n"
          ],
          "name": "stderr"
        },
        {
          "output_type": "execute_result",
          "data": {
            "text/plain": [
              "array([[9872,  859,    0],\n",
              "       [  13, 2451,   36],\n",
              "       [   0,  194, 2306]])"
            ]
          },
          "metadata": {
            "tags": []
          },
          "execution_count": 42
        }
      ]
    },
    {
      "cell_type": "code",
      "metadata": {
        "id": "Atk3F_SqaC-6"
      },
      "source": [
        ""
      ],
      "execution_count": 42,
      "outputs": []
    }
  ]
}